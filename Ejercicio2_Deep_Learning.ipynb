{
  "nbformat": 4,
  "nbformat_minor": 0,
  "metadata": {
    "colab": {
      "name": "Ejercicio2 Deep Learning.ipynb",
      "provenance": [],
      "collapsed_sections": [],
      "authorship_tag": "ABX9TyNYO7ztXVoUQA96cTCqDpUi",
      "include_colab_link": true
    },
    "kernelspec": {
      "name": "python3",
      "display_name": "Python 3"
    },
    "language_info": {
      "name": "python"
    }
  },
  "cells": [
    {
      "cell_type": "markdown",
      "metadata": {
        "id": "view-in-github",
        "colab_type": "text"
      },
      "source": [
        "<a href=\"https://colab.research.google.com/github/oneicar/ProyectoClase15/blob/main/Ejercicio2_Deep_Learning.ipynb\" target=\"_parent\"><img src=\"https://colab.research.google.com/assets/colab-badge.svg\" alt=\"Open In Colab\"/></a>"
      ]
    },
    {
      "cell_type": "code",
      "execution_count": null,
      "metadata": {
        "id": "P6jKR5zYoyZh"
      },
      "outputs": [],
      "source": [
        "import numpy as np\n",
        "import pandas as pd\n",
        "import matplotlib.pyplot as plt\n",
        "from sklearn.datasets import make_blobs\n",
        "from collections import Counter"
      ]
    },
    {
      "cell_type": "code",
      "source": [
        "import pandas as pd\n",
        "blobs = (\"https://github.com/oneicar/deep-learning/blob/7b4ed9342db5058deef85a470699644a75ce08f9/blobs.csv\")\n"
      ],
      "metadata": {
        "id": "m7Nob8dYp1Te"
      },
      "execution_count": null,
      "outputs": []
    },
    {
      "cell_type": "code",
      "source": [
        "df = pd.read_csv(\"blobs.csv\", sep = \";\", decimal=\",\")\n",
        "print(df.head())"
      ],
      "metadata": {
        "id": "EQTJkkOerf6i"
      },
      "execution_count": null,
      "outputs": []
    },
    {
      "cell_type": "code",
      "source": [
        "X, y = make_blobs(n_samples=5000, centers=3, random_state=1)"
      ],
      "metadata": {
        "id": "7J8JaUZ2puiW"
      },
      "execution_count": null,
      "outputs": []
    },
    {
      "cell_type": "code",
      "source": [
        "print(X.shape, y.shape)"
      ],
      "metadata": {
        "colab": {
          "base_uri": "https://localhost:8080/"
        },
        "id": "tZCq4Wh9s_4h",
        "outputId": "98acfc8a-59c2-4610-88e2-c08a7e5e61b8"
      },
      "execution_count": null,
      "outputs": [
        {
          "output_type": "stream",
          "name": "stdout",
          "text": [
            "(5000, 2) (5000,)\n"
          ]
        }
      ]
    },
    {
      "cell_type": "markdown",
      "source": [
        "**Cantidad de instancias por etiqueta:**"
      ],
      "metadata": {
        "id": "qaUujGAftMvc"
      }
    },
    {
      "cell_type": "code",
      "source": [
        "counter = Counter(y)\n",
        "counter"
      ],
      "metadata": {
        "colab": {
          "base_uri": "https://localhost:8080/"
        },
        "id": "N_Fzu8v2tDbY",
        "outputId": "f0a4a2b5-f250-4b68-81ac-677fbba522bc"
      },
      "execution_count": null,
      "outputs": [
        {
          "output_type": "execute_result",
          "data": {
            "text/plain": [
              "Counter({2: 1666, 0: 1667, 1: 1667})"
            ]
          },
          "metadata": {},
          "execution_count": 25
        }
      ]
    },
    {
      "cell_type": "code",
      "source": [
        "for label, _ in counter.items():\n",
        "    row_ix = np.where(y == label)\n",
        "    plt.scatter(X[row_ix, 0], X[row_ix, 1], label=str(label))\n",
        "plt.legend()\n",
        "plt.show()"
      ],
      "metadata": {
        "colab": {
          "base_uri": "https://localhost:8080/",
          "height": 265
        },
        "id": "0gveHQw7tXEG",
        "outputId": "34ec0009-da4c-4714-9e8c-d0318b0ff2c2"
      },
      "execution_count": null,
      "outputs": [
        {
          "output_type": "display_data",
          "data": {
            "text/plain": [
              "<Figure size 432x288 with 1 Axes>"
            ],
            "image/png": "[encoded data removed]"
          },
          "metadata": {
            "needs_background": "light"
          }
        }
      ]
    },
    {
      "cell_type": "markdown",
      "source": [
        "**Conjunto de train y test:**"
      ],
      "metadata": {
        "id": "QcWFfonvtqBa"
      }
    },
    {
      "cell_type": "code",
      "source": [
        "from sklearn.model_selection import train_test_split"
      ],
      "metadata": {
        "id": "0eRKjJsxteu8"
      },
      "execution_count": null,
      "outputs": []
    },
    {
      "cell_type": "code",
      "source": [
        "X_train, X_test, y_train, y_test = train_test_split(X, y, test_size=0.3, random_state=0)"
      ],
      "metadata": {
        "id": "ArI9S8vyt1zO"
      },
      "execution_count": null,
      "outputs": []
    },
    {
      "cell_type": "code",
      "source": [
        "X.shape"
      ],
      "metadata": {
        "colab": {
          "base_uri": "https://localhost:8080/"
        },
        "id": "531dUhfRt6ya",
        "outputId": "a810fd23-d43b-4c08-fe93-533738fb0e66"
      },
      "execution_count": null,
      "outputs": [
        {
          "output_type": "execute_result",
          "data": {
            "text/plain": [
              "(5000, 2)"
            ]
          },
          "metadata": {},
          "execution_count": 73
        }
      ]
    },
    {
      "cell_type": "code",
      "source": [
        "X_train.shape"
      ],
      "metadata": {
        "colab": {
          "base_uri": "https://localhost:8080/"
        },
        "id": "xVYJX4eyt-ps",
        "outputId": "4dc056bd-0b8f-456d-c46d-53b85c4a1754"
      },
      "execution_count": null,
      "outputs": [
        {
          "output_type": "execute_result",
          "data": {
            "text/plain": [
              "(3500, 2)"
            ]
          },
          "metadata": {},
          "execution_count": 74
        }
      ]
    },
    {
      "cell_type": "code",
      "source": [
        "for label, _ in counter.items():\n",
        "    row_ix = np.where(y_train == label)\n",
        "    plt.scatter(X_train[row_ix, 0], X_train[row_ix, 1], label=str(label))\n",
        "plt.legend()\n",
        "plt.title(\"Conjunto de train\")\n",
        "plt.show()"
      ],
      "metadata": {
        "colab": {
          "base_uri": "https://localhost:8080/",
          "height": 281
        },
        "id": "OCxIcQKsuNxT",
        "outputId": "1bd99291-6e67-4b65-bb40-3c4db8d2f6db"
      },
      "execution_count": null,
      "outputs": [
        {
          "output_type": "display_data",
          "data": {
            "text/plain": [
              "<Figure size 432x288 with 1 Axes>"
            ],
            "image/png": "[encoded data removed]"
          },
          "metadata": {
            "needs_background": "light"
          }
        }
      ]
    },
    {
      "cell_type": "code",
      "source": [
        "for label, _ in counter.items():\n",
        "    row_ix = np.where(y_test == label)\n",
        "    plt.scatter(X_test[row_ix, 0], X_test[row_ix, 1], label=str(label))\n",
        "plt.legend()\n",
        "plt.title(\"Conjunto de test\")\n",
        "plt.show()"
      ],
      "metadata": {
        "colab": {
          "base_uri": "https://localhost:8080/",
          "height": 281
        },
        "id": "xqOV5gfVuQdo",
        "outputId": "0d25a087-7af4-46b7-c5b4-be38be5d36d4"
      },
      "execution_count": null,
      "outputs": [
        {
          "output_type": "display_data",
          "data": {
            "text/plain": [
              "<Figure size 432x288 with 1 Axes>"
            ],
            "image/png": "[encoded data removed]"
          },
          "metadata": {
            "needs_background": "light"
          }
        }
      ]
    },
    {
      "cell_type": "code",
      "source": [
        "from sklearn.preprocessing import StandardScaler"
      ],
      "metadata": {
        "id": "rvGE4VxduV3d"
      },
      "execution_count": null,
      "outputs": []
    },
    {
      "cell_type": "code",
      "source": [
        "sc = StandardScaler()\n",
        "sc.fit(X_train)\n",
        "X_train = sc.transform(X_train)\n",
        "X_test = sc.transform(X_test)"
      ],
      "metadata": {
        "id": "1R0M2nqWuaMi"
      },
      "execution_count": null,
      "outputs": []
    },
    {
      "cell_type": "code",
      "source": [
        "X_train[0:5]"
      ],
      "metadata": {
        "colab": {
          "base_uri": "https://localhost:8080/"
        },
        "id": "dnC70_p1ukuu",
        "outputId": "a2d270b0-ac18-4dfa-d510-fbaa71ed4089"
      },
      "execution_count": null,
      "outputs": [
        {
          "output_type": "execute_result",
          "data": {
            "text/plain": [
              "array([[ 1.5708477 ,  1.1355079 ],\n",
              "       [ 1.13810607,  1.07009805],\n",
              "       [ 1.00019128,  1.46362693],\n",
              "       [-0.66578825, -0.83515247],\n",
              "       [ 1.19112279,  1.31616326]])"
            ]
          },
          "metadata": {},
          "execution_count": 35
        }
      ]
    },
    {
      "cell_type": "code",
      "source": [
        "X_test[0:5]"
      ],
      "metadata": {
        "colab": {
          "base_uri": "https://localhost:8080/"
        },
        "id": "ZHHYMp2uuefI",
        "outputId": "4fefc6d1-f19c-4a9c-a7df-792b54f7384d"
      },
      "execution_count": null,
      "outputs": [
        {
          "output_type": "execute_result",
          "data": {
            "text/plain": [
              "array([[-1.20188135, -0.1548654 ],\n",
              "       [ 1.15686809,  1.8170192 ],\n",
              "       [ 1.22214642,  1.19767106],\n",
              "       [ 1.08127348,  1.16781282],\n",
              "       [-1.16392233, -0.24203972]])"
            ]
          },
          "metadata": {},
          "execution_count": 37
        }
      ]
    },
    {
      "cell_type": "markdown",
      "source": [
        "**Red Neuronal Artificial RNA**"
      ],
      "metadata": {
        "id": "LjBgqgTkushi"
      }
    },
    {
      "cell_type": "code",
      "source": [
        "from keras.models import Sequential\n",
        "from keras.layers import Dense"
      ],
      "metadata": {
        "id": "PI5nLY9nu6Im"
      },
      "execution_count": null,
      "outputs": []
    },
    {
      "cell_type": "code",
      "source": [
        "model = Sequential()\n",
        "model.add(Dense(2, activation=\"relu\", input_shape=(X.shape[1],)))\n",
        "model.add(Dense(5, activation=\"relu\"))\n",
        "model.add(Dense(4, activation=\"relu\"))\n",
        "model.add(Dense(3, activation=\"softmax\"))"
      ],
      "metadata": {
        "id": "x2-c3Jnhu4GK"
      },
      "execution_count": null,
      "outputs": []
    },
    {
      "cell_type": "code",
      "source": [
        "model.compile(\n",
        "    loss=\"sparse_categorical_crossentropy\", optimizer=\"sgd\", metrics=[\"accuracy\"]\n",
        ")"
      ],
      "metadata": {
        "id": "P_Bwq_RLu_0g"
      },
      "execution_count": null,
      "outputs": []
    },
    {
      "cell_type": "code",
      "source": [
        "history = model.fit(\n",
        "    X_train,\n",
        "    y_train,\n",
        "    validation_data=(X_test, y_test),\n",
        "    epochs=100,\n",
        "    batch_size=10,\n",
        "    verbose=0,\n",
        ")"
      ],
      "metadata": {
        "id": "mczbg97VvGdr"
      },
      "execution_count": null,
      "outputs": []
    },
    {
      "cell_type": "code",
      "source": [
        "model.evaluate(X_test, y_test)"
      ],
      "metadata": {
        "colab": {
          "base_uri": "https://localhost:8080/"
        },
        "id": "D3CLpEA_vTeC",
        "outputId": "40871bce-8211-48e1-a495-b53cea4c416b"
      },
      "execution_count": null,
      "outputs": [
        {
          "output_type": "stream",
          "name": "stdout",
          "text": [
            "47/47 [==============================] - 0s 772us/step - loss: 0.0121 - accuracy: 0.9967\n"
          ]
        },
        {
          "output_type": "execute_result",
          "data": {
            "text/plain": [
              "[0.012072017416357994, 0.996666669845581]"
            ]
          },
          "metadata": {},
          "execution_count": 105
        }
      ]
    },
    {
      "cell_type": "code",
      "source": [
        "plt.plot(range(1, len(history.epoch) + 1), history.history[\"loss\"], label=\"Train\")\n",
        "plt.plot(range(1, len(history.epoch) + 1), history.history[\"val_loss\"], label=\"Test\")\n",
        "plt.xlabel(\"epoch\")\n",
        "plt.ylabel(\"Loss\")\n",
        "plt.legend();"
      ],
      "metadata": {
        "colab": {
          "base_uri": "https://localhost:8080/",
          "height": 279
        },
        "id": "MQ8ZPFF_vYfZ",
        "outputId": "4beb208d-8fba-4cfa-e6b5-51715fdf89ef"
      },
      "execution_count": null,
      "outputs": [
        {
          "output_type": "display_data",
          "data": {
            "text/plain": [
              "<Figure size 432x288 with 1 Axes>"
            ],
            "image/png": "[encoded data removed]"
          },
          "metadata": {
            "needs_background": "light"
          }
        }
      ]
    },
    {
      "cell_type": "code",
      "source": [
        "plt.plot(range(1, len(history.epoch) + 1), history.history[\"accuracy\"], label=\"Train\")\n",
        "plt.plot(range(1, len(history.epoch) + 1), history.history[\"val_accuracy\"], label=\"Test\")\n",
        "plt.xlabel(\"epoch\")\n",
        "plt.ylabel(\"Loss\")\n",
        "plt.legend();"
      ],
      "metadata": {
        "colab": {
          "base_uri": "https://localhost:8080/",
          "height": 279
        },
        "id": "vFV2PDY_vdek",
        "outputId": "28a8d4fe-d1aa-4041-aa36-692c293ff577"
      },
      "execution_count": null,
      "outputs": [
        {
          "output_type": "display_data",
          "data": {
            "text/plain": [
              "<Figure size 432x288 with 1 Axes>"
            ],
            "image/png": "[encoded data removed]"
          },
          "metadata": {
            "needs_background": "light"
          }
        }
      ]
    },
    {
      "cell_type": "markdown",
      "source": [
        "**Predicción:**"
      ],
      "metadata": {
        "id": "m1JSh37Qvohh"
      }
    },
    {
      "cell_type": "code",
      "source": [
        "y_pred = model.predict(X_test)\n",
        "y_pred[0:10]"
      ],
      "metadata": {
        "colab": {
          "base_uri": "https://localhost:8080/"
        },
        "id": "UofGjzmavjTf",
        "outputId": "e3b55cc5-30e8-4408-af86-50ad4ddea8fa"
      },
      "execution_count": null,
      "outputs": [
        {
          "output_type": "execute_result",
          "data": {
            "text/plain": [
              "array([[3.1025607e-07, 9.9999964e-01, 5.7064248e-10],\n",
              "       [1.0000000e+00, 4.9546935e-09, 8.1913418e-21],\n",
              "       [1.0000000e+00, 5.3185611e-09, 7.0541836e-15],\n",
              "       [1.0000000e+00, 4.3821721e-08, 1.7819322e-14],\n",
              "       [1.2732914e-06, 9.9999869e-01, 1.0110164e-08],\n",
              "       [3.3116315e-03, 3.0306352e-03, 9.9365777e-01],\n",
              "       [5.2210195e-03, 6.1723393e-01, 3.7754500e-01],\n",
              "       [3.3116315e-03, 3.0306352e-03, 9.9365777e-01],\n",
              "       [3.3116315e-03, 3.0306352e-03, 9.9365777e-01],\n",
              "       [3.3116315e-03, 3.0306352e-03, 9.9365777e-01]], dtype=float32)"
            ]
          },
          "metadata": {},
          "execution_count": 108
        }
      ]
    },
    {
      "cell_type": "code",
      "source": [
        "y_pred.shape"
      ],
      "metadata": {
        "colab": {
          "base_uri": "https://localhost:8080/"
        },
        "id": "x1gCnUsev1_K",
        "outputId": "98994965-f9ca-403f-b923-62650a25401a"
      },
      "execution_count": null,
      "outputs": [
        {
          "output_type": "execute_result",
          "data": {
            "text/plain": [
              "(1500, 3)"
            ]
          },
          "metadata": {},
          "execution_count": 109
        }
      ]
    },
    {
      "cell_type": "code",
      "source": [
        "y_pred[0:10]"
      ],
      "metadata": {
        "colab": {
          "base_uri": "https://localhost:8080/"
        },
        "id": "C3kbOLfIwKon",
        "outputId": "edb4265c-554f-499e-8d8e-67b68cf6e12f"
      },
      "execution_count": null,
      "outputs": [
        {
          "output_type": "execute_result",
          "data": {
            "text/plain": [
              "array([[3.1025607e-07, 9.9999964e-01, 5.7064248e-10],\n",
              "       [1.0000000e+00, 4.9546935e-09, 8.1913418e-21],\n",
              "       [1.0000000e+00, 5.3185611e-09, 7.0541836e-15],\n",
              "       [1.0000000e+00, 4.3821721e-08, 1.7819322e-14],\n",
              "       [1.2732914e-06, 9.9999869e-01, 1.0110164e-08],\n",
              "       [3.3116315e-03, 3.0306352e-03, 9.9365777e-01],\n",
              "       [5.2210195e-03, 6.1723393e-01, 3.7754500e-01],\n",
              "       [3.3116315e-03, 3.0306352e-03, 9.9365777e-01],\n",
              "       [3.3116315e-03, 3.0306352e-03, 9.9365777e-01],\n",
              "       [3.3116315e-03, 3.0306352e-03, 9.9365777e-01]], dtype=float32)"
            ]
          },
          "metadata": {},
          "execution_count": 110
        }
      ]
    },
    {
      "cell_type": "markdown",
      "source": [
        "**Selección de la clase para cada predicción:**"
      ],
      "metadata": {
        "id": "F47SMDUNv_Vr"
      }
    },
    {
      "cell_type": "code",
      "source": [
        "y_pred_label = np.argmax(y_pred, axis = 1)\n",
        "y_pred_label[0:10]"
      ],
      "metadata": {
        "colab": {
          "base_uri": "https://localhost:8080/"
        },
        "id": "l_zoJiwNwCbC",
        "outputId": "e916d0af-c57f-4fdb-f70d-148ce58aa7c2"
      },
      "execution_count": null,
      "outputs": [
        {
          "output_type": "execute_result",
          "data": {
            "text/plain": [
              "array([1, 0, 0, 0, 1, 2, 1, 2, 2, 2])"
            ]
          },
          "metadata": {},
          "execution_count": 111
        }
      ]
    },
    {
      "cell_type": "code",
      "source": [
        "plt.scatter(X_test[:, 0], X_test[:, 1], c=y_pred_label, marker=\"^\");"
      ],
      "metadata": {
        "colab": {
          "base_uri": "https://localhost:8080/",
          "height": 265
        },
        "id": "FaEKXIcUv6Xy",
        "outputId": "3e7ffd93-35ab-490d-a4f4-a7a4effd4717"
      },
      "execution_count": null,
      "outputs": [
        {
          "output_type": "display_data",
          "data": {
            "text/plain": [
              "<Figure size 432x288 with 1 Axes>"
            ],
            "image/png": "[encoded data removed]"
          },
          "metadata": {
            "needs_background": "light"
          }
        }
      ]
    },
    {
      "cell_type": "markdown",
      "source": [
        "**Cuello de botella en la información:**"
      ],
      "metadata": {
        "id": "rrw4poDTxgKT"
      }
    },
    {
      "cell_type": "code",
      "source": [
        "model = Sequential()\n",
        "model.add(Dense(2, activation=\"relu\", input_shape=(X.shape[1],)))\n",
        "model.add(Dense(4, activation=\"relu\"))\n",
        "model.add(Dense(3, activation=\"relu\"))\n",
        "model.add(Dense(3, activation=\"softmax\"))\n",
        "model.compile(\n",
        "    loss=\"sparse_categorical_crossentropy\", optimizer=\"sgd\", metrics=[\"accuracy\"]\n",
        ")\n",
        "history = model.fit(\n",
        "    X_train,\n",
        "    y_train,\n",
        "    validation_data=(X_test, y_test),\n",
        "    epochs=100,\n",
        "    batch_size=10,\n",
        "    verbose=1,\n",
        ")"
      ],
      "metadata": {
        "colab": {
          "base_uri": "https://localhost:8080/"
        },
        "id": "udHBkTP_vtus",
        "outputId": "b3e01ee9-1b74-400d-f19a-0b38b1531d3e"
      },
      "execution_count": null,
      "outputs": [
        {
          "output_type": "stream",
          "name": "stdout",
          "text": [
            "Epoch 1/100\n",
            "350/350 [==============================] - 1s 2ms/step - loss: 1.0795 - accuracy: 0.4480 - val_loss: 1.0274 - val_accuracy: 0.5107\n",
            "Epoch 2/100\n",
            "350/350 [==============================] - 0s 1ms/step - loss: 0.8634 - accuracy: 0.6109 - val_loss: 0.6875 - val_accuracy: 0.6493\n",
            "Epoch 3/100\n",
            "350/350 [==============================] - 0s 1ms/step - loss: 0.6411 - accuracy: 0.6700 - val_loss: 0.5884 - val_accuracy: 0.6633\n",
            "Epoch 4/100\n",
            "350/350 [==============================] - 0s 1ms/step - loss: 0.5764 - accuracy: 0.6851 - val_loss: 0.5471 - val_accuracy: 0.6853\n",
            "Epoch 5/100\n",
            "350/350 [==============================] - 0s 1ms/step - loss: 0.5454 - accuracy: 0.7000 - val_loss: 0.5248 - val_accuracy: 0.6860\n",
            "Epoch 6/100\n",
            "350/350 [==============================] - 0s 1ms/step - loss: 0.5273 - accuracy: 0.7051 - val_loss: 0.5108 - val_accuracy: 0.6900\n",
            "Epoch 7/100\n",
            "350/350 [==============================] - 0s 1ms/step - loss: 0.5152 - accuracy: 0.7114 - val_loss: 0.5009 - val_accuracy: 0.6993\n",
            "Epoch 8/100\n",
            "350/350 [==============================] - 0s 1ms/step - loss: 0.5060 - accuracy: 0.7186 - val_loss: 0.4931 - val_accuracy: 0.7013\n",
            "Epoch 9/100\n",
            "350/350 [==============================] - 0s 1ms/step - loss: 0.4980 - accuracy: 0.7280 - val_loss: 0.4854 - val_accuracy: 0.7173\n",
            "Epoch 10/100\n",
            "350/350 [==============================] - 0s 1ms/step - loss: 0.4891 - accuracy: 0.7446 - val_loss: 0.4747 - val_accuracy: 0.7487\n",
            "Epoch 11/100\n",
            "350/350 [==============================] - 0s 1ms/step - loss: 0.4744 - accuracy: 0.7786 - val_loss: 0.4508 - val_accuracy: 0.8000\n",
            "Epoch 12/100\n",
            "350/350 [==============================] - 0s 1ms/step - loss: 0.4143 - accuracy: 0.9023 - val_loss: 0.3323 - val_accuracy: 0.9740\n",
            "Epoch 13/100\n",
            "350/350 [==============================] - 0s 1ms/step - loss: 0.2953 - accuracy: 0.9857 - val_loss: 0.2530 - val_accuracy: 0.9893\n",
            "Epoch 14/100\n",
            "350/350 [==============================] - 0s 1ms/step - loss: 0.2362 - accuracy: 0.9903 - val_loss: 0.2117 - val_accuracy: 0.9907\n",
            "Epoch 15/100\n",
            "350/350 [==============================] - 0s 1ms/step - loss: 0.2004 - accuracy: 0.9906 - val_loss: 0.1836 - val_accuracy: 0.9907\n",
            "Epoch 16/100\n",
            "350/350 [==============================] - 0s 1ms/step - loss: 0.1754 - accuracy: 0.9909 - val_loss: 0.1628 - val_accuracy: 0.9900\n",
            "Epoch 17/100\n",
            "350/350 [==============================] - 0s 1ms/step - loss: 0.1560 - accuracy: 0.9917 - val_loss: 0.1469 - val_accuracy: 0.9933\n",
            "Epoch 18/100\n",
            "350/350 [==============================] - 0s 1ms/step - loss: 0.1408 - accuracy: 0.9931 - val_loss: 0.1325 - val_accuracy: 0.9927\n",
            "Epoch 19/100\n",
            "350/350 [==============================] - 0s 1ms/step - loss: 0.1280 - accuracy: 0.9937 - val_loss: 0.1211 - val_accuracy: 0.9940\n",
            "Epoch 20/100\n",
            "350/350 [==============================] - 0s 1ms/step - loss: 0.1176 - accuracy: 0.9943 - val_loss: 0.1113 - val_accuracy: 0.9940\n",
            "Epoch 21/100\n",
            "350/350 [==============================] - 0s 1ms/step - loss: 0.1083 - accuracy: 0.9949 - val_loss: 0.1030 - val_accuracy: 0.9933\n",
            "Epoch 22/100\n",
            "350/350 [==============================] - 0s 1ms/step - loss: 0.1005 - accuracy: 0.9946 - val_loss: 0.0956 - val_accuracy: 0.9947\n",
            "Epoch 23/100\n",
            "350/350 [==============================] - 0s 1ms/step - loss: 0.0934 - accuracy: 0.9957 - val_loss: 0.0891 - val_accuracy: 0.9953\n",
            "Epoch 24/100\n",
            "350/350 [==============================] - 0s 1ms/step - loss: 0.0869 - accuracy: 0.9960 - val_loss: 0.0863 - val_accuracy: 0.9960\n",
            "Epoch 25/100\n",
            "350/350 [==============================] - 0s 1ms/step - loss: 0.0817 - accuracy: 0.9966 - val_loss: 0.0788 - val_accuracy: 0.9960\n",
            "Epoch 26/100\n",
            "350/350 [==============================] - 0s 1ms/step - loss: 0.0766 - accuracy: 0.9960 - val_loss: 0.0755 - val_accuracy: 0.9933\n",
            "Epoch 27/100\n",
            "350/350 [==============================] - 0s 1ms/step - loss: 0.0725 - accuracy: 0.9963 - val_loss: 0.0697 - val_accuracy: 0.9953\n",
            "Epoch 28/100\n",
            "350/350 [==============================] - 1s 2ms/step - loss: 0.0685 - accuracy: 0.9960 - val_loss: 0.0660 - val_accuracy: 0.9953\n",
            "Epoch 29/100\n",
            "350/350 [==============================] - 1s 2ms/step - loss: 0.0649 - accuracy: 0.9960 - val_loss: 0.0633 - val_accuracy: 0.9960\n",
            "Epoch 30/100\n",
            "350/350 [==============================] - 0s 1ms/step - loss: 0.0618 - accuracy: 0.9966 - val_loss: 0.0600 - val_accuracy: 0.9960\n",
            "Epoch 31/100\n",
            "350/350 [==============================] - 0s 1ms/step - loss: 0.0588 - accuracy: 0.9963 - val_loss: 0.0569 - val_accuracy: 0.9960\n",
            "Epoch 32/100\n",
            "350/350 [==============================] - 0s 1ms/step - loss: 0.0560 - accuracy: 0.9960 - val_loss: 0.0544 - val_accuracy: 0.9960\n",
            "Epoch 33/100\n",
            "350/350 [==============================] - 0s 1ms/step - loss: 0.0537 - accuracy: 0.9960 - val_loss: 0.0522 - val_accuracy: 0.9960\n",
            "Epoch 34/100\n",
            "350/350 [==============================] - 0s 1ms/step - loss: 0.0514 - accuracy: 0.9966 - val_loss: 0.0507 - val_accuracy: 0.9967\n",
            "Epoch 35/100\n",
            "350/350 [==============================] - 0s 1ms/step - loss: 0.0493 - accuracy: 0.9971 - val_loss: 0.0481 - val_accuracy: 0.9967\n",
            "Epoch 36/100\n",
            "350/350 [==============================] - 0s 1ms/step - loss: 0.0476 - accuracy: 0.9963 - val_loss: 0.0465 - val_accuracy: 0.9960\n",
            "Epoch 37/100\n",
            "350/350 [==============================] - 0s 1ms/step - loss: 0.0457 - accuracy: 0.9966 - val_loss: 0.0447 - val_accuracy: 0.9960\n",
            "Epoch 38/100\n",
            "350/350 [==============================] - 0s 1ms/step - loss: 0.0442 - accuracy: 0.9963 - val_loss: 0.0432 - val_accuracy: 0.9960\n",
            "Epoch 39/100\n",
            "350/350 [==============================] - 0s 1ms/step - loss: 0.0426 - accuracy: 0.9966 - val_loss: 0.0421 - val_accuracy: 0.9967\n",
            "Epoch 40/100\n",
            "350/350 [==============================] - 0s 1ms/step - loss: 0.0413 - accuracy: 0.9966 - val_loss: 0.0408 - val_accuracy: 0.9960\n",
            "Epoch 41/100\n",
            "350/350 [==============================] - 0s 1ms/step - loss: 0.0399 - accuracy: 0.9963 - val_loss: 0.0395 - val_accuracy: 0.9960\n",
            "Epoch 42/100\n",
            "350/350 [==============================] - 0s 1ms/step - loss: 0.0387 - accuracy: 0.9966 - val_loss: 0.0383 - val_accuracy: 0.9960\n",
            "Epoch 43/100\n",
            "350/350 [==============================] - 0s 1ms/step - loss: 0.0377 - accuracy: 0.9963 - val_loss: 0.0370 - val_accuracy: 0.9960\n",
            "Epoch 44/100\n",
            "350/350 [==============================] - 0s 1ms/step - loss: 0.0365 - accuracy: 0.9969 - val_loss: 0.0363 - val_accuracy: 0.9960\n",
            "Epoch 45/100\n",
            "350/350 [==============================] - 0s 1ms/step - loss: 0.0355 - accuracy: 0.9966 - val_loss: 0.0351 - val_accuracy: 0.9967\n",
            "Epoch 46/100\n",
            "350/350 [==============================] - 0s 1ms/step - loss: 0.0346 - accuracy: 0.9963 - val_loss: 0.0343 - val_accuracy: 0.9967\n",
            "Epoch 47/100\n",
            "350/350 [==============================] - 0s 1ms/step - loss: 0.0335 - accuracy: 0.9971 - val_loss: 0.0341 - val_accuracy: 0.9960\n",
            "Epoch 48/100\n",
            "350/350 [==============================] - 0s 1ms/step - loss: 0.0330 - accuracy: 0.9966 - val_loss: 0.0328 - val_accuracy: 0.9960\n",
            "Epoch 49/100\n",
            "350/350 [==============================] - 0s 1ms/step - loss: 0.0323 - accuracy: 0.9966 - val_loss: 0.0321 - val_accuracy: 0.9960\n",
            "Epoch 50/100\n",
            "350/350 [==============================] - 0s 1ms/step - loss: 0.0315 - accuracy: 0.9963 - val_loss: 0.0313 - val_accuracy: 0.9960\n",
            "Epoch 51/100\n",
            "350/350 [==============================] - 0s 1ms/step - loss: 0.0306 - accuracy: 0.9966 - val_loss: 0.0317 - val_accuracy: 0.9953\n",
            "Epoch 52/100\n",
            "350/350 [==============================] - 0s 1ms/step - loss: 0.0299 - accuracy: 0.9971 - val_loss: 0.0299 - val_accuracy: 0.9953\n",
            "Epoch 53/100\n",
            "350/350 [==============================] - 0s 1ms/step - loss: 0.0293 - accuracy: 0.9963 - val_loss: 0.0296 - val_accuracy: 0.9960\n",
            "Epoch 54/100\n",
            "350/350 [==============================] - 0s 1ms/step - loss: 0.0289 - accuracy: 0.9966 - val_loss: 0.0288 - val_accuracy: 0.9953\n",
            "Epoch 55/100\n",
            "350/350 [==============================] - 0s 1ms/step - loss: 0.0283 - accuracy: 0.9963 - val_loss: 0.0286 - val_accuracy: 0.9960\n",
            "Epoch 56/100\n",
            "350/350 [==============================] - 0s 1ms/step - loss: 0.0278 - accuracy: 0.9969 - val_loss: 0.0277 - val_accuracy: 0.9953\n",
            "Epoch 57/100\n",
            "350/350 [==============================] - 0s 1ms/step - loss: 0.0270 - accuracy: 0.9969 - val_loss: 0.0275 - val_accuracy: 0.9967\n",
            "Epoch 58/100\n",
            "350/350 [==============================] - 0s 1ms/step - loss: 0.0268 - accuracy: 0.9966 - val_loss: 0.0269 - val_accuracy: 0.9967\n",
            "Epoch 59/100\n",
            "350/350 [==============================] - 0s 1ms/step - loss: 0.0263 - accuracy: 0.9963 - val_loss: 0.0263 - val_accuracy: 0.9953\n",
            "Epoch 60/100\n",
            "350/350 [==============================] - 0s 1ms/step - loss: 0.0257 - accuracy: 0.9966 - val_loss: 0.0260 - val_accuracy: 0.9953\n",
            "Epoch 61/100\n",
            "350/350 [==============================] - 0s 1ms/step - loss: 0.0255 - accuracy: 0.9969 - val_loss: 0.0262 - val_accuracy: 0.9960\n",
            "Epoch 62/100\n",
            "350/350 [==============================] - 0s 1ms/step - loss: 0.0251 - accuracy: 0.9966 - val_loss: 0.0252 - val_accuracy: 0.9960\n",
            "Epoch 63/100\n",
            "350/350 [==============================] - 0s 1ms/step - loss: 0.0246 - accuracy: 0.9969 - val_loss: 0.0252 - val_accuracy: 0.9960\n",
            "Epoch 64/100\n",
            "350/350 [==============================] - 0s 1ms/step - loss: 0.0243 - accuracy: 0.9966 - val_loss: 0.0247 - val_accuracy: 0.9960\n",
            "Epoch 65/100\n",
            "350/350 [==============================] - 0s 1ms/step - loss: 0.0238 - accuracy: 0.9963 - val_loss: 0.0242 - val_accuracy: 0.9967\n",
            "Epoch 66/100\n",
            "350/350 [==============================] - 0s 1ms/step - loss: 0.0237 - accuracy: 0.9963 - val_loss: 0.0238 - val_accuracy: 0.9953\n",
            "Epoch 67/100\n",
            "350/350 [==============================] - 0s 1ms/step - loss: 0.0233 - accuracy: 0.9966 - val_loss: 0.0238 - val_accuracy: 0.9960\n",
            "Epoch 68/100\n",
            "350/350 [==============================] - 0s 1ms/step - loss: 0.0230 - accuracy: 0.9963 - val_loss: 0.0232 - val_accuracy: 0.9953\n",
            "Epoch 69/100\n",
            "350/350 [==============================] - 0s 1ms/step - loss: 0.0224 - accuracy: 0.9960 - val_loss: 0.0239 - val_accuracy: 0.9960\n",
            "Epoch 70/100\n",
            "350/350 [==============================] - 0s 1ms/step - loss: 0.0223 - accuracy: 0.9966 - val_loss: 0.0228 - val_accuracy: 0.9967\n",
            "Epoch 71/100\n",
            "350/350 [==============================] - 0s 1ms/step - loss: 0.0220 - accuracy: 0.9963 - val_loss: 0.0225 - val_accuracy: 0.9967\n",
            "Epoch 72/100\n",
            "350/350 [==============================] - 0s 1ms/step - loss: 0.0219 - accuracy: 0.9966 - val_loss: 0.0221 - val_accuracy: 0.9953\n",
            "Epoch 73/100\n",
            "350/350 [==============================] - 0s 1ms/step - loss: 0.0216 - accuracy: 0.9966 - val_loss: 0.0218 - val_accuracy: 0.9953\n",
            "Epoch 74/100\n",
            "350/350 [==============================] - 0s 1ms/step - loss: 0.0213 - accuracy: 0.9963 - val_loss: 0.0219 - val_accuracy: 0.9960\n",
            "Epoch 75/100\n",
            "350/350 [==============================] - 0s 1ms/step - loss: 0.0212 - accuracy: 0.9969 - val_loss: 0.0218 - val_accuracy: 0.9960\n",
            "Epoch 76/100\n",
            "350/350 [==============================] - 1s 3ms/step - loss: 0.0210 - accuracy: 0.9966 - val_loss: 0.0216 - val_accuracy: 0.9960\n",
            "Epoch 77/100\n",
            "350/350 [==============================] - 0s 1ms/step - loss: 0.0205 - accuracy: 0.9966 - val_loss: 0.0211 - val_accuracy: 0.9967\n",
            "Epoch 78/100\n",
            "350/350 [==============================] - 1s 2ms/step - loss: 0.0202 - accuracy: 0.9963 - val_loss: 0.0213 - val_accuracy: 0.9973\n",
            "Epoch 79/100\n",
            "350/350 [==============================] - 1s 2ms/step - loss: 0.0202 - accuracy: 0.9971 - val_loss: 0.0206 - val_accuracy: 0.9953\n",
            "Epoch 80/100\n",
            "350/350 [==============================] - 0s 1ms/step - loss: 0.0201 - accuracy: 0.9960 - val_loss: 0.0205 - val_accuracy: 0.9967\n",
            "Epoch 81/100\n",
            "350/350 [==============================] - 0s 1ms/step - loss: 0.0196 - accuracy: 0.9969 - val_loss: 0.0215 - val_accuracy: 0.9953\n",
            "Epoch 82/100\n",
            "350/350 [==============================] - 0s 1ms/step - loss: 0.0192 - accuracy: 0.9969 - val_loss: 0.0209 - val_accuracy: 0.9960\n",
            "Epoch 83/100\n",
            "350/350 [==============================] - 0s 1ms/step - loss: 0.0196 - accuracy: 0.9963 - val_loss: 0.0198 - val_accuracy: 0.9953\n",
            "Epoch 84/100\n",
            "350/350 [==============================] - 0s 1ms/step - loss: 0.0193 - accuracy: 0.9969 - val_loss: 0.0196 - val_accuracy: 0.9953\n",
            "Epoch 85/100\n",
            "350/350 [==============================] - 0s 1ms/step - loss: 0.0189 - accuracy: 0.9966 - val_loss: 0.0201 - val_accuracy: 0.9960\n",
            "Epoch 86/100\n",
            "350/350 [==============================] - 0s 1ms/step - loss: 0.0189 - accuracy: 0.9966 - val_loss: 0.0193 - val_accuracy: 0.9953\n",
            "Epoch 87/100\n",
            "350/350 [==============================] - 0s 1ms/step - loss: 0.0187 - accuracy: 0.9966 - val_loss: 0.0196 - val_accuracy: 0.9960\n",
            "Epoch 88/100\n",
            "350/350 [==============================] - 0s 1ms/step - loss: 0.0184 - accuracy: 0.9969 - val_loss: 0.0190 - val_accuracy: 0.9953\n",
            "Epoch 89/100\n",
            "350/350 [==============================] - 0s 1ms/step - loss: 0.0184 - accuracy: 0.9963 - val_loss: 0.0189 - val_accuracy: 0.9967\n",
            "Epoch 90/100\n",
            "350/350 [==============================] - 0s 1ms/step - loss: 0.0181 - accuracy: 0.9960 - val_loss: 0.0195 - val_accuracy: 0.9960\n",
            "Epoch 91/100\n",
            "350/350 [==============================] - 0s 1ms/step - loss: 0.0181 - accuracy: 0.9966 - val_loss: 0.0189 - val_accuracy: 0.9960\n",
            "Epoch 92/100\n",
            "350/350 [==============================] - 0s 1ms/step - loss: 0.0180 - accuracy: 0.9966 - val_loss: 0.0184 - val_accuracy: 0.9953\n",
            "Epoch 93/100\n",
            "350/350 [==============================] - 0s 1ms/step - loss: 0.0178 - accuracy: 0.9969 - val_loss: 0.0183 - val_accuracy: 0.9953\n",
            "Epoch 94/100\n",
            "350/350 [==============================] - 0s 1ms/step - loss: 0.0177 - accuracy: 0.9966 - val_loss: 0.0183 - val_accuracy: 0.9967\n",
            "Epoch 95/100\n",
            "350/350 [==============================] - 0s 1ms/step - loss: 0.0176 - accuracy: 0.9969 - val_loss: 0.0180 - val_accuracy: 0.9953\n",
            "Epoch 96/100\n",
            "350/350 [==============================] - 0s 1ms/step - loss: 0.0175 - accuracy: 0.9963 - val_loss: 0.0180 - val_accuracy: 0.9967\n",
            "Epoch 97/100\n",
            "350/350 [==============================] - 0s 1ms/step - loss: 0.0173 - accuracy: 0.9963 - val_loss: 0.0180 - val_accuracy: 0.9967\n",
            "Epoch 98/100\n",
            "350/350 [==============================] - 0s 1ms/step - loss: 0.0171 - accuracy: 0.9960 - val_loss: 0.0181 - val_accuracy: 0.9960\n",
            "Epoch 99/100\n",
            "350/350 [==============================] - 0s 1ms/step - loss: 0.0170 - accuracy: 0.9966 - val_loss: 0.0179 - val_accuracy: 0.9960\n",
            "Epoch 100/100\n",
            "350/350 [==============================] - 0s 1ms/step - loss: 0.0169 - accuracy: 0.9969 - val_loss: 0.0174 - val_accuracy: 0.9953\n"
          ]
        }
      ]
    },
    {
      "cell_type": "code",
      "source": [
        "plt.plot(range(1, len(history.epoch) + 1), history.history[\"loss\"], label=\"Train\")\n",
        "plt.plot(range(1, len(history.epoch) + 1), history.history[\"val_loss\"], label=\"Test\")\n",
        "plt.xlabel(\"epoch\")\n",
        "plt.ylabel(\"Loss\")\n",
        "plt.legend();"
      ],
      "metadata": {
        "colab": {
          "base_uri": "https://localhost:8080/",
          "height": 279
        },
        "id": "DOmPINkBx1ip",
        "outputId": "cb06cbc8-e03d-4ac7-ca7b-bbb806fe861f"
      },
      "execution_count": null,
      "outputs": [
        {
          "output_type": "display_data",
          "data": {
            "text/plain": [
              "<Figure size 432x288 with 1 Axes>"
            ],
            "image/png": "[encoded data removed]"
          },
          "metadata": {
            "needs_background": "light"
          }
        }
      ]
    },
    {
      "cell_type": "code",
      "source": [
        "model.evaluate(X_test, y_test)"
      ],
      "metadata": {
        "colab": {
          "base_uri": "https://localhost:8080/"
        },
        "id": "V87m3qlGx7gJ",
        "outputId": "e763c1af-ba26-45dd-80cc-80ca1abb56d4"
      },
      "execution_count": null,
      "outputs": [
        {
          "output_type": "stream",
          "name": "stdout",
          "text": [
            "47/47 [==============================] - 0s 1ms/step - loss: 0.0174 - accuracy: 0.9953\n"
          ]
        },
        {
          "output_type": "execute_result",
          "data": {
            "text/plain": [
              "[0.017433369532227516, 0.9953333139419556]"
            ]
          },
          "metadata": {},
          "execution_count": 120
        }
      ]
    },
    {
      "cell_type": "code",
      "source": [
        "y_pred = model.predict(X_test)\n",
        "\n",
        "y_pred_label = np.argmax(y_pred, axis = 1)"
      ],
      "metadata": {
        "id": "NbTywyTDyMgh"
      },
      "execution_count": null,
      "outputs": []
    },
    {
      "cell_type": "code",
      "source": [
        "y_pred_label[0:20]"
      ],
      "metadata": {
        "colab": {
          "base_uri": "https://localhost:8080/"
        },
        "id": "1JsUkE1jyOFy",
        "outputId": "8b1bd11d-5c35-4fb2-e7d8-776cab517dfb"
      },
      "execution_count": null,
      "outputs": [
        {
          "output_type": "execute_result",
          "data": {
            "text/plain": [
              "array([1, 0, 0, 0, 1, 2, 2, 2, 2, 2, 0, 0, 0, 0, 0, 0, 2, 2, 0, 2])"
            ]
          },
          "metadata": {},
          "execution_count": 122
        }
      ]
    },
    {
      "cell_type": "code",
      "source": [
        "plt.scatter(X_test[:, 0], X_test[:, 1], c=y_pred_label, marker=\"^\");"
      ],
      "metadata": {
        "colab": {
          "base_uri": "https://localhost:8080/",
          "height": 265
        },
        "id": "FRjJR0s8ySjs",
        "outputId": "3098ef71-b6fd-42db-a0b3-c1efd12f3e23"
      },
      "execution_count": null,
      "outputs": [
        {
          "output_type": "display_data",
          "data": {
            "text/plain": [
              "<Figure size 432x288 with 1 Axes>"
            ],
            "image/png": "[encoded data removed]"
          },
          "metadata": {
            "needs_background": "light"
          }
        }
      ]
    },
    {
      "cell_type": "code",
      "source": [
        ""
      ],
      "metadata": {
        "id": "oPM8uRDoyYjW"
      },
      "execution_count": null,
      "outputs": []
    }
  ]
}